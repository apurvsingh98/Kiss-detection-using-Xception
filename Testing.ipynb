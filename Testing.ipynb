{
  "nbformat": 4,
  "nbformat_minor": 0,
  "metadata": {
    "colab": {
      "name": "Testing.ipynb",
      "provenance": []
    },
    "kernelspec": {
      "name": "python3",
      "display_name": "Python 3"
    }
  },
  "cells": [
    {
      "cell_type": "markdown",
      "metadata": {
        "id": "tdkshNNc0wSZ",
        "colab_type": "text"
      },
      "source": [
        "This notebook contains a novel method of testing and classifying images where the RetinaFace is used to detect the number of faces present in the test image and model will perform classification only if the number of faces in the image is greater than 0\n",
        "\n",
        "\n",
        "```\n",
        "if len(faces)>0:\n",
        "  Do the testing\n",
        "```\n",
        "\n",
        "This condition helps in significant reduction of false positives\n"
      ]
    },
    {
      "cell_type": "markdown",
      "metadata": {
        "id": "8THn1vLm0wK1",
        "colab_type": "text"
      },
      "source": [
        "Importing the libraries"
      ]
    },
    {
      "cell_type": "code",
      "metadata": {
        "id": "ujf_RaOE05wT",
        "colab_type": "code",
        "colab": {}
      },
      "source": [
        "from tensorflow.keras.models import load_model\n",
        "from PIL import Image\n",
        "import cv2\n",
        "from google.colab.patches import cv2_imshow\n",
        "import numpy as np\n",
        "import os,shutil\n",
        "from skimage import transform\n",
        "import cv2 , os\n",
        "from math import ceil \n",
        "from retinaface import RetinaFace\n",
        "from google.colab.patches import cv2_imshow"
      ],
      "execution_count": null,
      "outputs": []
    },
    {
      "cell_type": "markdown",
      "metadata": {
        "id": "5mI2WHnK0wWB",
        "colab_type": "text"
      },
      "source": [
        "Loading the Saved Model"
      ]
    },
    {
      "cell_type": "code",
      "metadata": {
        "id": "PZyScPgW10Jl",
        "colab_type": "code",
        "colab": {}
      },
      "source": [
        "model = load_model(\"/content/model/kiss\")"
      ],
      "execution_count": null,
      "outputs": []
    },
    {
      "cell_type": "markdown",
      "metadata": {
        "id": "SW17Z7OW3eX7",
        "colab_type": "text"
      },
      "source": [
        "Installing RetinaFace and initializing it"
      ]
    },
    {
      "cell_type": "code",
      "metadata": {
        "id": "G3TFf_-K3els",
        "colab_type": "code",
        "colab": {}
      },
      "source": [
        "!pip install retinaface\n",
        "retina_detector = RetinaFace(quality=\"normal\") "
      ],
      "execution_count": null,
      "outputs": []
    },
    {
      "cell_type": "markdown",
      "metadata": {
        "id": "Zrygid6g2Ly6",
        "colab_type": "text"
      },
      "source": [
        "Function which inputs an image and returns a numpy array to be fed into the predictor"
      ]
    },
    {
      "cell_type": "code",
      "metadata": {
        "id": "wt5QhJl52VRr",
        "colab_type": "code",
        "colab": {}
      },
      "source": [
        "class_names = ['kissing','not_kissing']\n",
        "g = []\n",
        "def load(filename):\n",
        "   np_image= cv2.imread(filename)\n",
        "   im = np_image\n",
        "   np_image = np.array(np_image).astype('float32')/255\n",
        "   np_image = transform.resize(np_image, (197, 197, 3))\n",
        "   np_image = np.expand_dims(np_image, axis=0)\n",
        "   return np_image,im"
      ],
      "execution_count": null,
      "outputs": []
    },
    {
      "cell_type": "markdown",
      "metadata": {
        "id": "oqmW7R6v2a57",
        "colab_type": "text"
      },
      "source": [
        "Testing of the images present in a directory"
      ]
    },
    {
      "cell_type": "code",
      "metadata": {
        "id": "1z3SMQ9p2o8s",
        "colab_type": "code",
        "colab": {}
      },
      "source": [
        "path = \"/content/HK_resized/\"\n",
        "images = os.listdir(path)\n",
        "b = 0\n",
        "for i in images:\n",
        "  image,im = load(path+i)\n",
        "  faces = retina_detector.predict(im)\n",
        "  if len(faces)>0:\n",
        "    f,e= os.path.splitext(i)\n",
        "    predictions=model.predict_on_batch(image)\n",
        "    classs = class_names[np.argmax(predictions)]\n",
        "    if predictions[0][0]>5:\n",
        "      print(\"Kissing\")\n",
        "      im = cv2.imread(path+i) \n",
        "      cv2_imshow(im)"
      ],
      "execution_count": null,
      "outputs": []
    }
  ]
}